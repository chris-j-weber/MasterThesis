{
  "nbformat": 4,
  "nbformat_minor": 0,
  "metadata": {
    "colab": {
      "name": "Generate Additional Visual Features.ipynb",
      "provenance": [],
      "collapsed_sections": [],
      "authorship_tag": "ABX9TyM7JB+1hgc2iQblyFJ2SzG+",
      "include_colab_link": true
    },
    "kernelspec": {
      "name": "python3",
      "display_name": "Python 3"
    },
    "language_info": {
      "name": "python"
    },
    "accelerator": "GPU"
  },
  "cells": [
    {
      "cell_type": "markdown",
      "metadata": {
        "id": "view-in-github",
        "colab_type": "text"
      },
      "source": [
        "<a href=\"https://colab.research.google.com/github/chris-j-weber/MasterThesis/blob/main/Generate_Additional_Visual_Features.ipynb\" target=\"_parent\"><img src=\"https://colab.research.google.com/assets/colab-badge.svg\" alt=\"Open In Colab\"/></a>"
      ]
    },
    {
      "cell_type": "markdown",
      "metadata": {
        "id": "O25O0Qjz_u8W"
      },
      "source": [
        "# Generate additional visual features in the form of auto recognised faces (as png or csv)\n",
        "(did not get into Thesis)"
      ]
    },
    {
      "cell_type": "code",
      "metadata": {
        "colab": {
          "base_uri": "https://localhost:8080/"
        },
        "id": "Eim1yh1V7zYD",
        "outputId": "a66d0b31-cd81-4cf7-c35d-cb09c1404abd"
      },
      "source": [
        "import os\n",
        "!rm -rf sample_data/\n",
        "if not os.path.isfile('mmsd_raw_data.zip'):\n",
        "  !gdown --id 1i9ixalVcXskA5_BkNnbR60sqJqvGyi6E\n",
        "\n",
        "if not os.path.isdir('mmsd_raw_data'):\n",
        "  !unzip -qq mmsd_raw_data.zip -d /content/mmsd_raw_data\n",
        "  !rm -rf /content/mmsd_raw_data/__MACOSX/\n",
        "\n",
        "!rm -rf sarcasmdetection\n",
        "!git clone https://github.com/chris-j-weber/sarcasmdetection\n"
      ],
      "execution_count": null,
      "outputs": [
        {
          "output_type": "stream",
          "name": "stdout",
          "text": [
            "Downloading...\n",
            "From: https://drive.google.com/uc?id=1i9ixalVcXskA5_BkNnbR60sqJqvGyi6E\n",
            "To: /content/mmsd_raw_data.zip\n",
            "100% 1.40G/1.40G [00:12<00:00, 109MB/s]\n",
            "Cloning into 'sarcasmdetection'...\n",
            "remote: Enumerating objects: 99, done.\u001b[K\n",
            "remote: Counting objects: 100% (99/99), done.\u001b[K\n",
            "remote: Compressing objects: 100% (72/72), done.\u001b[K\n",
            "remote: Total 99 (delta 45), reused 66 (delta 22), pack-reused 0\u001b[K\n",
            "Unpacking objects: 100% (99/99), done.\n"
          ]
        }
      ]
    },
    {
      "cell_type": "markdown",
      "metadata": {
        "id": "y3leXzGVD97e"
      },
      "source": [
        ""
      ]
    },
    {
      "cell_type": "code",
      "metadata": {
        "colab": {
          "base_uri": "https://localhost:8080/"
        },
        "id": "YPpkFpQhBp1M",
        "outputId": "bcd7e437-c6de-4d68-da55-5901a519de09"
      },
      "source": [
        "# import libraries\n",
        "!pip install face_recognition\n",
        "import os\n",
        "import cv2\n",
        "import csv\n",
        "import numpy as np\n",
        "import face_recognition\n",
        "\n",
        "faces_path = \"./sarcasmdetection/data/faces/\"\n",
        "# Create arrays of known face encodings and their names\n",
        "# all Characters appearing in BBT: ['SHELDON','PENNY','HOWARD','LEONARD','RAJ','PERSON','BERNADETTE','AMY','PERSON3','PERSON1']\n",
        "# add all Characters from other shows as well\n",
        "# TODO: extract appearing characters from dataset, use only those characers to avoid wrong recognition\n",
        "\n",
        "filenames = os.listdir(faces_path)\n",
        "known_face_names = []\n",
        "known_face_encodings = []\n",
        "print(filenames)\n",
        "\n",
        "for fn in filenames:\n",
        "    name, _ = os.path.splitext(fn)\n",
        "    known_face_names.append(name)\n",
        "\n",
        "    fn_path = faces_path + fn\n",
        "    print(fn_path)\n",
        "    fn_image = face_recognition.load_image_file(fn_path)\n",
        "    fn_face_encoding = face_recognition.face_encodings(fn_image)[0]\n",
        "    known_face_encodings.append(fn_face_encoding)\n",
        "\n",
        "\n",
        "def extract_face_from_vid(file_path, outpath, write_img=True, write_csv=False):\n",
        "    print(file_path)\n",
        "    video_capture = cv2.VideoCapture(file_path)\n",
        "\n",
        "    count = 0\n",
        "    while True:\n",
        "        # Initialize variables\n",
        "        face_locations = []\n",
        "\n",
        "        # Grab a single frame of video\n",
        "        ret, frame = video_capture.read()\n",
        "\n",
        "        if frame is None:\n",
        "            continue\n",
        "        count += 1\n",
        "\n",
        "        # Convert the image from BGR color (which OpenCV uses) to RGB color (which face_recognition uses)\n",
        "        rgb_frame = frame[:, :, ::-1]\n",
        "\n",
        "\n",
        "        face_names = []\n",
        "        face_encodings = []\n",
        "        # Find all the faces in the current frame of video\n",
        "        face_locations = face_recognition.face_locations(rgb_frame)\n",
        "        face_encodings = face_recognition.face_encodings(rgb_frame, face_locations)\n",
        "\n",
        "        for face_encoding in face_encodings:\n",
        "            # See if the face is a match for the known face(s)\n",
        "            matches = face_recognition.compare_faces(known_face_encodings, face_encoding)\n",
        "            name = \"Unknown\"\n",
        "            # Or instead, use the known face with the smallest distance to the new face\n",
        "            face_distances = face_recognition.face_distance(known_face_encodings, face_encoding)\n",
        "            best_match_index = np.argmin(face_distances)\n",
        "            if matches[best_match_index]:\n",
        "                name = known_face_names[best_match_index]\n",
        "\n",
        "            face_names.append(name)\n",
        "\n",
        "        if len(face_locations)>0:\n",
        "            for i, face in enumerate(face_locations):\n",
        "                #openmouth = check_mouth_open(face['top_lip'], face['bottom_lip'])\n",
        "\n",
        "                # Display the results\n",
        "                top, right, bottom, left = face_locations[i]\n",
        "\n",
        "                width, height = 256, 256\n",
        "                dim = (width, height)\n",
        "                face_frame = frame[top:bottom, left:right]\n",
        "                resized = cv2.resize(face_frame, dim, interpolation=cv2.INTER_AREA)\n",
        "                gray = cv2.cvtColor(resized, cv2.COLOR_BGR2GRAY)\n",
        "\n",
        "                data = np.array(gray.ravel()).tolist()\n",
        "                data = ' '.join([str(i) for i in data])\n",
        "\n",
        "                # write images into named subfolders\n",
        "                if write_img:\n",
        "                  image_outpath = os.path.join(outpath, face_names[i])\n",
        "                  os.makedirs(image_outpath, exist_ok=True)\n",
        "                  image_outpath = os.path.join(image_outpath, str(count) + '.png')\n",
        "                  cv2.imwrite(image_outpath, gray)\n",
        "\n",
        "                #instead write into csv\n",
        "                if write_csv:\n",
        "                  with open(outpath + '.csv', mode='a', newline='') as csv_file:\n",
        "                      fieldnames = ['is_sarcastic','pixels']\n",
        "                      writer = csv.DictWriter(csv_file, fieldnames=fieldnames, delimiter=',')\n",
        "                      writer.writerow({'is_sarcastic': 1,'pixels': data})\n",
        "\n",
        "                # Draw a box around the face\n",
        "                #cv2.rectangle(gray, (left, top), (right, bottom), (0, 0, 255), 2)\n",
        "                #cv2.putText(gray, str(openmouth), (right-left, bottom), cv2.FONT_HERSHEY_SIMPLEX, 0.5, (0, 0, 255), 2)\n",
        "\n",
        "                # Display the resulting image\n",
        "                #cv2.imshow('Video', gray)\n",
        "\n",
        "\n",
        "    # Release handle to the webcam\n",
        "    video_capture.release()\n",
        "    cv2.destroyAllWindows()\n"
      ],
      "execution_count": null,
      "outputs": [
        {
          "output_type": "stream",
          "name": "stdout",
          "text": [
            "Requirement already satisfied: face_recognition in /usr/local/lib/python3.7/dist-packages (1.3.0)\n",
            "Requirement already satisfied: Click>=6.0 in /usr/local/lib/python3.7/dist-packages (from face_recognition) (7.1.2)\n",
            "Requirement already satisfied: Pillow in /usr/local/lib/python3.7/dist-packages (from face_recognition) (7.1.2)\n",
            "Requirement already satisfied: numpy in /usr/local/lib/python3.7/dist-packages (from face_recognition) (1.19.5)\n",
            "Requirement already satisfied: dlib>=19.7 in /usr/local/lib/python3.7/dist-packages (from face_recognition) (19.18.0)\n",
            "Requirement already satisfied: face-recognition-models>=0.3.0 in /usr/local/lib/python3.7/dist-packages (from face_recognition) (0.3.0)\n",
            "['PENNY.jpg', 'LEONARD.jpg', 'AMY.jpg', 'HOWARD.jpg', 'BERNADETTE.jpg', 'RAJ.jpg', 'SHELDON.jpg']\n",
            "./sarcasmdetection/data/faces/PENNY.jpg\n",
            "./sarcasmdetection/data/faces/LEONARD.jpg\n",
            "./sarcasmdetection/data/faces/AMY.jpg\n",
            "./sarcasmdetection/data/faces/HOWARD.jpg\n",
            "./sarcasmdetection/data/faces/BERNADETTE.jpg\n",
            "./sarcasmdetection/data/faces/RAJ.jpg\n",
            "./sarcasmdetection/data/faces/SHELDON.jpg\n"
          ]
        }
      ]
    },
    {
      "cell_type": "code",
      "metadata": {
        "id": "SlTTy6wfjlBu"
      },
      "source": [
        "write_output_as_img = False #@param {type:\"boolean\"}\n",
        "write_output_as_csv = True #@param {type:\"boolean\"}\n",
        "\n",
        "\n",
        "\n",
        "videoDir = \"./mmsd_raw_data/utterances_final\"\n",
        "outDir = \"./data_out/\"\n",
        "\n",
        "for i, filename in enumerate(os.listdir(videoDir)):\n",
        "    f = os.path.join(videoDir, filename)\n",
        "    filehead, _ =  os.path.splitext(filename)\n",
        "    # checking if it is a file\n",
        "    print(filehead)\n",
        "    if os.path.isfile(f):\n",
        "\n",
        "        print(f)\n",
        "        print(filehead)\n",
        "        #outpath = os.path.join(outpath, filename[:-4]) + '.csv'\n",
        "\n",
        "        #create new dir\n",
        "        image_outpath = outDir + filehead\n",
        "        print(f)\n",
        "        print(image_outpath)\n",
        "\n",
        "        os.makedirs(image_outpath, exist_ok=True)\n",
        "\n",
        "        extract_face_from_vid(f, image_outpath, write_img=write_output_as_img, write_csv=write_output_as_csv)"
      ],
      "execution_count": null,
      "outputs": []
    },
    {
      "cell_type": "code",
      "metadata": {
        "colab": {
          "base_uri": "https://localhost:8080/",
          "height": 303
        },
        "id": "j5UXZwJmi3d2",
        "outputId": "63a296be-5127-49e4-b199-db1664e55c3e"
      },
      "source": [
        "#@title check if csv is correct\n",
        "\n",
        "import matplotlib.pyplot as plt\n",
        "import pandas as pd\n",
        "\n",
        "df = pd.read_csv(\"./data_out/2_541.csv\", delimiter=',', names=['is_sarcastic', 'pixels'])\n",
        "\n",
        "print(len(df))\n",
        "\n",
        "X = df['pixels'][0]\n",
        "\n",
        "features = np.fromstring(X, np.float32, sep=' ')\n",
        "features = np.stack((features,) * 3, axis=-1)\n",
        "features /= 255\n",
        "\n",
        "y = features.reshape(256,256,3)\n",
        "print(y.shape)\n",
        "\n",
        "plt.imshow(y)\n",
        "plt.show()"
      ],
      "execution_count": null,
      "outputs": [
        {
          "output_type": "stream",
          "name": "stdout",
          "text": [
            "217\n",
            "(256, 256, 3)\n"
          ]
        },
        {
          "output_type": "display_data",
          "data": {
            "image/png": "[encoded data removed]",
            "text/plain": [
              "<Figure size 432x288 with 1 Axes>"
            ]
          },
          "metadata": {
            "needs_background": "light"
          }
        }
      ]
    },
    {
      "cell_type": "code",
      "metadata": {
        "id": "yNiJX6eyD4R-"
      },
      "source": [
        ""
      ],
      "execution_count": null,
      "outputs": []
    }
  ]
}